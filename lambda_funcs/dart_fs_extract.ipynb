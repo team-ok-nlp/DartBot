{
 "cells": [
  {
   "cell_type": "code",
   "execution_count": 1,
   "metadata": {},
   "outputs": [
    {
     "data": {
      "text/plain": [
       "'b470732e660dd2fe2997205c7f59524d889713db'"
      ]
     },
     "execution_count": 1,
     "metadata": {},
     "output_type": "execute_result"
    }
   ],
   "source": [
    "import pandas as pd \n",
    "import dart_fss as dart\n",
    "from constants import DART_API_KEY\n",
    "dart.set_api_key(api_key=DART_API_KEY)"
   ]
  },
  {
   "cell_type": "code",
   "execution_count": 3,
   "metadata": {},
   "outputs": [],
   "source": [
    "def name2corp(corp_name):\n",
    "\t# get list of all corp\n",
    "\t# To be change DB\n",
    "\tcorp_list = dart.get_corp_list()\n",
    "\tprint(\"got corp list\")\n",
    "\n",
    "\t# get corp class by corp name in corp_list\n",
    "\tcorp_info = corp_list.find_by_corp_name(corp_name, exactly=True)[0]\n",
    "\treturn corp_info"
   ]
  },
  {
   "cell_type": "code",
   "execution_count": 41,
   "metadata": {},
   "outputs": [],
   "source": [
    "# multiple index columns to single index columns\n",
    "def multiple2single(df, sheet_type):\n",
    "\t# multiple index to single index \n",
    "\tdf.columns = df.columns.to_flat_index()\n",
    "\n",
    "\t# set columns \n",
    "\tnew_cols = []\n",
    "\tfor col in df.columns.values:\n",
    "\t\tif type(col[1]) == tuple:\n",
    "\t\t\tif sheet_type == 'bs':\n",
    "\t\t\t\tnew_cols.append(col[0])\n",
    "\t\t\telse: #is or cf\n",
    "\t\t\t\tnew_cols.append(col[0].split('-')[-1])\n",
    "\t\telse:\n",
    "\t\t\tnew_cols.append(col[1]) \n",
    "\tdf.columns = new_cols\n",
    "\n",
    "\treturn df"
   ]
  },
  {
   "cell_type": "code",
   "execution_count": 53,
   "metadata": {},
   "outputs": [],
   "source": [
    "# select dataframe by column index value\n",
    "def get_condition_row(df, val):\n",
    "\tclass_list= [c for c in df.columns.values if 'class' in c]\n",
    "\tclass_list.sort(reverse=True)\n",
    "\n",
    "\tfor cl in class_list:\n",
    "\t\tdf_sel = df.loc[df[cl] == val]\n",
    "\t\tif df_sel.empty:\n",
    "\t\t\tpass\n",
    "\t\telse:\n",
    "\t\t\tbreak\n",
    "\t\n",
    "\treturn df_sel"
   ]
  },
  {
   "cell_type": "markdown",
   "metadata": {},
   "source": [
    "# 1. Get financial sheet by DART"
   ]
  },
  {
   "cell_type": "code",
   "execution_count": 2,
   "metadata": {},
   "outputs": [
    {
     "data": {
      "application/vnd.jupyter.widget-view+json": {
       "model_id": "74c7c71578b544319e1389cf0dbcd0a5",
       "version_major": 2,
       "version_minor": 0
      },
      "text/plain": [
       "Output()"
      ]
     },
     "metadata": {},
     "output_type": "display_data"
    },
    {
     "data": {
      "application/vnd.jupyter.widget-view+json": {
       "model_id": "ced7e131cd1f466fb297ca4d649f7987",
       "version_major": 2,
       "version_minor": 0
      },
      "text/plain": [
       "Output()"
      ]
     },
     "metadata": {},
     "output_type": "display_data"
    },
    {
     "data": {
      "application/vnd.jupyter.widget-view+json": {
       "model_id": "4b54d423dc284d2e903d3e3ea2665aeb",
       "version_major": 2,
       "version_minor": 0
      },
      "text/plain": [
       "Output()"
      ]
     },
     "metadata": {},
     "output_type": "display_data"
    }
   ],
   "source": [
    "corp_list = dart.get_corp_list()"
   ]
  },
  {
   "cell_type": "code",
   "execution_count": 4,
   "metadata": {},
   "outputs": [
    {
     "name": "stdout",
     "output_type": "stream",
     "text": [
      "got corp list\n"
     ]
    }
   ],
   "source": [
    "corp_name = \"삼성전자\"\n",
    "corp_info = name2corp(corp_name)"
   ]
  },
  {
   "cell_type": "code",
   "execution_count": 43,
   "metadata": {},
   "outputs": [
    {
     "data": {
      "application/vnd.jupyter.widget-view+json": {
       "model_id": "d85521a18ba6413184d8dc94e0cd3f50",
       "version_major": 2,
       "version_minor": 0
      },
      "text/plain": [
       "Annual reports:   0%|          | 0/2 [00:00<?, ?report/s]"
      ]
     },
     "metadata": {},
     "output_type": "display_data"
    }
   ],
   "source": [
    "# fs = dart.fs.extract(corp_code=corp_code, bgn_de='20120101')\n",
    "fs = corp_info.extract_fs(bgn_de='20210101')"
   ]
  },
  {
   "cell_type": "markdown",
   "metadata": {},
   "source": [
    "# 2. Split financial sheet to balance sheet, incom statement, cash flow"
   ]
  },
  {
   "cell_type": "markdown",
   "metadata": {},
   "source": [
    "## 2-1 Balance sheet"
   ]
  },
  {
   "cell_type": "code",
   "execution_count": 44,
   "metadata": {},
   "outputs": [
    {
     "data": {
      "text/html": [
       "<div>\n",
       "<style scoped>\n",
       "    .dataframe tbody tr th:only-of-type {\n",
       "        vertical-align: middle;\n",
       "    }\n",
       "\n",
       "    .dataframe tbody tr th {\n",
       "        vertical-align: top;\n",
       "    }\n",
       "\n",
       "    .dataframe thead th {\n",
       "        text-align: right;\n",
       "    }\n",
       "</style>\n",
       "<table border=\"1\" class=\"dataframe\">\n",
       "  <thead>\n",
       "    <tr style=\"text-align: right;\">\n",
       "      <th></th>\n",
       "      <th>concept_id</th>\n",
       "      <th>label_ko</th>\n",
       "      <th>label_en</th>\n",
       "      <th>class0</th>\n",
       "      <th>class1</th>\n",
       "      <th>class2</th>\n",
       "      <th>class3</th>\n",
       "      <th>class4</th>\n",
       "      <th>20211231</th>\n",
       "      <th>20201231</th>\n",
       "      <th>20191231</th>\n",
       "      <th>20181231</th>\n",
       "    </tr>\n",
       "  </thead>\n",
       "  <tbody>\n",
       "    <tr>\n",
       "      <th>0</th>\n",
       "      <td>ifrs-full_CurrentAssets</td>\n",
       "      <td>유동자산</td>\n",
       "      <td>Current assets</td>\n",
       "      <td>재무상태표 [abstract]</td>\n",
       "      <td>자산 [abstract]</td>\n",
       "      <td>유동자산</td>\n",
       "      <td>None</td>\n",
       "      <td>None</td>\n",
       "      <td>218,163,185,000,000.0</td>\n",
       "      <td>198,215,579,000,000.0</td>\n",
       "      <td>181,385,260,000,000.0</td>\n",
       "      <td>174,697,424,000,000.0</td>\n",
       "    </tr>\n",
       "    <tr>\n",
       "      <th>1</th>\n",
       "      <td>ifrs-full_CashAndCashEquivalents</td>\n",
       "      <td>현금및현금성자산</td>\n",
       "      <td>Cash and cash equivalents</td>\n",
       "      <td>재무상태표 [abstract]</td>\n",
       "      <td>자산 [abstract]</td>\n",
       "      <td>유동자산</td>\n",
       "      <td>현금및현금성자산</td>\n",
       "      <td>None</td>\n",
       "      <td>39,031,415,000,000.0</td>\n",
       "      <td>29,382,578,000,000.0</td>\n",
       "      <td>26,885,999,000,000.0</td>\n",
       "      <td>30,340,505,000,000.0</td>\n",
       "    </tr>\n",
       "    <tr>\n",
       "      <th>2</th>\n",
       "      <td>dart_ShortTermDepositsNotClassifiedAsCashEquiv...</td>\n",
       "      <td>단기금융상품</td>\n",
       "      <td>Short-term financial instruments</td>\n",
       "      <td>재무상태표 [abstract]</td>\n",
       "      <td>자산 [abstract]</td>\n",
       "      <td>유동자산</td>\n",
       "      <td>단기금융상품</td>\n",
       "      <td>None</td>\n",
       "      <td>81,708,986,000,000.0</td>\n",
       "      <td>92,441,703,000,000.0</td>\n",
       "      <td>76,252,052,000,000.0</td>\n",
       "      <td>65,893,797,000,000.0</td>\n",
       "    </tr>\n",
       "    <tr>\n",
       "      <th>3</th>\n",
       "      <td>entity00126380_udf_BS_201851017339116_CurrentA...</td>\n",
       "      <td>단기상각후원가금융자산</td>\n",
       "      <td>Short-term financial assets at amortized cost</td>\n",
       "      <td>재무상태표 [abstract]</td>\n",
       "      <td>자산 [abstract]</td>\n",
       "      <td>유동자산</td>\n",
       "      <td>단기상각후원가금융자산</td>\n",
       "      <td>None</td>\n",
       "      <td>3,369,034,000,000.0</td>\n",
       "      <td>2,757,111,000,000.0</td>\n",
       "      <td>3,914,216,000,000.0</td>\n",
       "      <td>2,703,693,000,000.0</td>\n",
       "    </tr>\n",
       "    <tr>\n",
       "      <th>4</th>\n",
       "      <td>ifrs-full_CurrentFinancialAssetsAtFairValueThr...</td>\n",
       "      <td>단기당기손익-공정가치금융자산</td>\n",
       "      <td>Short-term financial assets at fair value thro...</td>\n",
       "      <td>재무상태표 [abstract]</td>\n",
       "      <td>자산 [abstract]</td>\n",
       "      <td>유동자산</td>\n",
       "      <td>단기당기손익-공정가치금융자산</td>\n",
       "      <td>None</td>\n",
       "      <td>40,757,000,000.0</td>\n",
       "      <td>71,451,000,000.0</td>\n",
       "      <td>1,727,436,000,000.0</td>\n",
       "      <td>2,001,948,000,000.0</td>\n",
       "    </tr>\n",
       "  </tbody>\n",
       "</table>\n",
       "</div>"
      ],
      "text/plain": [
       "                                          concept_id         label_ko  \\\n",
       "0                            ifrs-full_CurrentAssets             유동자산   \n",
       "1                   ifrs-full_CashAndCashEquivalents         현금및현금성자산   \n",
       "2  dart_ShortTermDepositsNotClassifiedAsCashEquiv...           단기금융상품   \n",
       "3  entity00126380_udf_BS_201851017339116_CurrentA...      단기상각후원가금융자산   \n",
       "4  ifrs-full_CurrentFinancialAssetsAtFairValueThr...  단기당기손익-공정가치금융자산   \n",
       "\n",
       "                                            label_en            class0  \\\n",
       "0                                     Current assets  재무상태표 [abstract]   \n",
       "1                          Cash and cash equivalents  재무상태표 [abstract]   \n",
       "2                   Short-term financial instruments  재무상태표 [abstract]   \n",
       "3      Short-term financial assets at amortized cost  재무상태표 [abstract]   \n",
       "4  Short-term financial assets at fair value thro...  재무상태표 [abstract]   \n",
       "\n",
       "          class1 class2           class3 class4              20211231  \\\n",
       "0  자산 [abstract]   유동자산             None   None 218,163,185,000,000.0   \n",
       "1  자산 [abstract]   유동자산         현금및현금성자산   None  39,031,415,000,000.0   \n",
       "2  자산 [abstract]   유동자산           단기금융상품   None  81,708,986,000,000.0   \n",
       "3  자산 [abstract]   유동자산      단기상각후원가금융자산   None   3,369,034,000,000.0   \n",
       "4  자산 [abstract]   유동자산  단기당기손익-공정가치금융자산   None      40,757,000,000.0   \n",
       "\n",
       "               20201231              20191231              20181231  \n",
       "0 198,215,579,000,000.0 181,385,260,000,000.0 174,697,424,000,000.0  \n",
       "1  29,382,578,000,000.0  26,885,999,000,000.0  30,340,505,000,000.0  \n",
       "2  92,441,703,000,000.0  76,252,052,000,000.0  65,893,797,000,000.0  \n",
       "3   2,757,111,000,000.0   3,914,216,000,000.0   2,703,693,000,000.0  \n",
       "4      71,451,000,000.0   1,727,436,000,000.0   2,001,948,000,000.0  "
      ]
     },
     "execution_count": 44,
     "metadata": {},
     "output_type": "execute_result"
    }
   ],
   "source": [
    "df_bs = fs['bs']\n",
    "df_bs = multiple2single(df_bs, 'bs')\n",
    "df_bs.head()"
   ]
  },
  {
   "cell_type": "code",
   "execution_count": 55,
   "metadata": {},
   "outputs": [
    {
     "data": {
      "text/html": [
       "<div>\n",
       "<style scoped>\n",
       "    .dataframe tbody tr th:only-of-type {\n",
       "        vertical-align: middle;\n",
       "    }\n",
       "\n",
       "    .dataframe tbody tr th {\n",
       "        vertical-align: top;\n",
       "    }\n",
       "\n",
       "    .dataframe thead th {\n",
       "        text-align: right;\n",
       "    }\n",
       "</style>\n",
       "<table border=\"1\" class=\"dataframe\">\n",
       "  <thead>\n",
       "    <tr style=\"text-align: right;\">\n",
       "      <th></th>\n",
       "      <th>concept_id</th>\n",
       "      <th>label_ko</th>\n",
       "      <th>label_en</th>\n",
       "      <th>class0</th>\n",
       "      <th>class1</th>\n",
       "      <th>class2</th>\n",
       "      <th>class3</th>\n",
       "      <th>class4</th>\n",
       "      <th>20211231</th>\n",
       "      <th>20201231</th>\n",
       "      <th>20191231</th>\n",
       "      <th>20181231</th>\n",
       "    </tr>\n",
       "  </thead>\n",
       "  <tbody>\n",
       "    <tr>\n",
       "      <th>1</th>\n",
       "      <td>ifrs-full_CashAndCashEquivalents</td>\n",
       "      <td>현금및현금성자산</td>\n",
       "      <td>Cash and cash equivalents</td>\n",
       "      <td>재무상태표 [abstract]</td>\n",
       "      <td>자산 [abstract]</td>\n",
       "      <td>유동자산</td>\n",
       "      <td>현금및현금성자산</td>\n",
       "      <td>None</td>\n",
       "      <td>39,031,415,000,000.0</td>\n",
       "      <td>29,382,578,000,000.0</td>\n",
       "      <td>26,885,999,000,000.0</td>\n",
       "      <td>30,340,505,000,000.0</td>\n",
       "    </tr>\n",
       "  </tbody>\n",
       "</table>\n",
       "</div>"
      ],
      "text/plain": [
       "                         concept_id  label_ko                   label_en  \\\n",
       "1  ifrs-full_CashAndCashEquivalents  현금및현금성자산  Cash and cash equivalents   \n",
       "\n",
       "             class0         class1 class2    class3 class4  \\\n",
       "1  재무상태표 [abstract]  자산 [abstract]   유동자산  현금및현금성자산   None   \n",
       "\n",
       "              20211231             20201231             20191231  \\\n",
       "1 39,031,415,000,000.0 29,382,578,000,000.0 26,885,999,000,000.0   \n",
       "\n",
       "              20181231  \n",
       "1 30,340,505,000,000.0  "
      ]
     },
     "execution_count": 55,
     "metadata": {},
     "output_type": "execute_result"
    }
   ],
   "source": [
    "df_sel = get_condition_row(df_bs, '현금및현금성자산')\n",
    "df_sel.head()"
   ]
  },
  {
   "cell_type": "markdown",
   "metadata": {},
   "source": [
    "## 2-2 Income statement"
   ]
  },
  {
   "cell_type": "code",
   "execution_count": 45,
   "metadata": {},
   "outputs": [
    {
     "data": {
      "text/html": [
       "<div>\n",
       "<style scoped>\n",
       "    .dataframe tbody tr th:only-of-type {\n",
       "        vertical-align: middle;\n",
       "    }\n",
       "\n",
       "    .dataframe tbody tr th {\n",
       "        vertical-align: top;\n",
       "    }\n",
       "\n",
       "    .dataframe thead th {\n",
       "        text-align: right;\n",
       "    }\n",
       "</style>\n",
       "<table border=\"1\" class=\"dataframe\">\n",
       "  <thead>\n",
       "    <tr style=\"text-align: right;\">\n",
       "      <th></th>\n",
       "      <th>concept_id</th>\n",
       "      <th>label_ko</th>\n",
       "      <th>label_en</th>\n",
       "      <th>class0</th>\n",
       "      <th>class1</th>\n",
       "      <th>class2</th>\n",
       "      <th>20211231</th>\n",
       "      <th>20201231</th>\n",
       "      <th>20191231</th>\n",
       "      <th>20181231</th>\n",
       "    </tr>\n",
       "  </thead>\n",
       "  <tbody>\n",
       "    <tr>\n",
       "      <th>0</th>\n",
       "      <td>ifrs-full_Revenue</td>\n",
       "      <td>수익(매출액)</td>\n",
       "      <td>Revenue(Sales)</td>\n",
       "      <td>손익계산서 [abstract]</td>\n",
       "      <td>수익(매출액)</td>\n",
       "      <td>None</td>\n",
       "      <td>279,604,799,000,000.0</td>\n",
       "      <td>236,806,988,000,000.0</td>\n",
       "      <td>230,400,881,000,000.0</td>\n",
       "      <td>243,771,415,000,000.0</td>\n",
       "    </tr>\n",
       "    <tr>\n",
       "      <th>1</th>\n",
       "      <td>ifrs-full_CostOfSales</td>\n",
       "      <td>매출원가</td>\n",
       "      <td>Cost of sales</td>\n",
       "      <td>손익계산서 [abstract]</td>\n",
       "      <td>매출원가</td>\n",
       "      <td>None</td>\n",
       "      <td>166,411,342,000,000.0</td>\n",
       "      <td>144,488,296,000,000.0</td>\n",
       "      <td>147,239,549,000,000.0</td>\n",
       "      <td>132,394,411,000,000.0</td>\n",
       "    </tr>\n",
       "    <tr>\n",
       "      <th>2</th>\n",
       "      <td>ifrs-full_GrossProfit</td>\n",
       "      <td>매출총이익</td>\n",
       "      <td>Gross profit</td>\n",
       "      <td>손익계산서 [abstract]</td>\n",
       "      <td>매출총이익</td>\n",
       "      <td>None</td>\n",
       "      <td>113,193,457,000,000.0</td>\n",
       "      <td>92,318,692,000,000.0</td>\n",
       "      <td>83,161,332,000,000.0</td>\n",
       "      <td>111,377,004,000,000.0</td>\n",
       "    </tr>\n",
       "    <tr>\n",
       "      <th>3</th>\n",
       "      <td>dart_TotalSellingGeneralAdministrativeExpenses</td>\n",
       "      <td>판매비와관리비</td>\n",
       "      <td>Selling and administrative expenses</td>\n",
       "      <td>손익계산서 [abstract]</td>\n",
       "      <td>판매비와관리비</td>\n",
       "      <td>None</td>\n",
       "      <td>61,559,601,000,000.0</td>\n",
       "      <td>56,324,816,000,000.0</td>\n",
       "      <td>55,392,823,000,000.0</td>\n",
       "      <td>52,490,335,000,000.0</td>\n",
       "    </tr>\n",
       "    <tr>\n",
       "      <th>4</th>\n",
       "      <td>dart_OperatingIncomeLoss</td>\n",
       "      <td>영업이익</td>\n",
       "      <td>Operating profit</td>\n",
       "      <td>손익계산서 [abstract]</td>\n",
       "      <td>영업이익</td>\n",
       "      <td>None</td>\n",
       "      <td>51,633,856,000,000.0</td>\n",
       "      <td>35,993,876,000,000.0</td>\n",
       "      <td>27,768,509,000,000.0</td>\n",
       "      <td>58,886,669,000,000.0</td>\n",
       "    </tr>\n",
       "  </tbody>\n",
       "</table>\n",
       "</div>"
      ],
      "text/plain": [
       "                                       concept_id label_ko  \\\n",
       "0                               ifrs-full_Revenue  수익(매출액)   \n",
       "1                           ifrs-full_CostOfSales     매출원가   \n",
       "2                           ifrs-full_GrossProfit    매출총이익   \n",
       "3  dart_TotalSellingGeneralAdministrativeExpenses  판매비와관리비   \n",
       "4                        dart_OperatingIncomeLoss     영업이익   \n",
       "\n",
       "                              label_en            class0   class1 class2  \\\n",
       "0                       Revenue(Sales)  손익계산서 [abstract]  수익(매출액)   None   \n",
       "1                        Cost of sales  손익계산서 [abstract]     매출원가   None   \n",
       "2                         Gross profit  손익계산서 [abstract]    매출총이익   None   \n",
       "3  Selling and administrative expenses  손익계산서 [abstract]  판매비와관리비   None   \n",
       "4                     Operating profit  손익계산서 [abstract]     영업이익   None   \n",
       "\n",
       "               20211231              20201231              20191231  \\\n",
       "0 279,604,799,000,000.0 236,806,988,000,000.0 230,400,881,000,000.0   \n",
       "1 166,411,342,000,000.0 144,488,296,000,000.0 147,239,549,000,000.0   \n",
       "2 113,193,457,000,000.0  92,318,692,000,000.0  83,161,332,000,000.0   \n",
       "3  61,559,601,000,000.0  56,324,816,000,000.0  55,392,823,000,000.0   \n",
       "4  51,633,856,000,000.0  35,993,876,000,000.0  27,768,509,000,000.0   \n",
       "\n",
       "               20181231  \n",
       "0 243,771,415,000,000.0  \n",
       "1 132,394,411,000,000.0  \n",
       "2 111,377,004,000,000.0  \n",
       "3  52,490,335,000,000.0  \n",
       "4  58,886,669,000,000.0  "
      ]
     },
     "execution_count": 45,
     "metadata": {},
     "output_type": "execute_result"
    }
   ],
   "source": [
    "df_is = fs['is']\n",
    "df_is = multiple2single(df_is, 'is')\n",
    "df_is.head()"
   ]
  },
  {
   "cell_type": "markdown",
   "metadata": {},
   "source": [
    "## 2-3 Cash Flow"
   ]
  },
  {
   "cell_type": "code",
   "execution_count": 46,
   "metadata": {},
   "outputs": [
    {
     "data": {
      "text/html": [
       "<div>\n",
       "<style scoped>\n",
       "    .dataframe tbody tr th:only-of-type {\n",
       "        vertical-align: middle;\n",
       "    }\n",
       "\n",
       "    .dataframe tbody tr th {\n",
       "        vertical-align: top;\n",
       "    }\n",
       "\n",
       "    .dataframe thead th {\n",
       "        text-align: right;\n",
       "    }\n",
       "</style>\n",
       "<table border=\"1\" class=\"dataframe\">\n",
       "  <thead>\n",
       "    <tr style=\"text-align: right;\">\n",
       "      <th></th>\n",
       "      <th>concept_id</th>\n",
       "      <th>label_ko</th>\n",
       "      <th>label_en</th>\n",
       "      <th>class0</th>\n",
       "      <th>class1</th>\n",
       "      <th>class2</th>\n",
       "      <th>class3</th>\n",
       "      <th>20211231</th>\n",
       "      <th>20201231</th>\n",
       "      <th>20191231</th>\n",
       "      <th>20181231</th>\n",
       "    </tr>\n",
       "  </thead>\n",
       "  <tbody>\n",
       "    <tr>\n",
       "      <th>0</th>\n",
       "      <td>ifrs-full_CashFlowsFromUsedInOperatingActivities</td>\n",
       "      <td>영업활동 현금흐름</td>\n",
       "      <td>Cash flows from (used in) operating activities</td>\n",
       "      <td>현금흐름표 [abstract]</td>\n",
       "      <td>영업활동 현금흐름</td>\n",
       "      <td>None</td>\n",
       "      <td>None</td>\n",
       "      <td>65,105,448,000,000.0</td>\n",
       "      <td>65,287,009,000,000.0</td>\n",
       "      <td>45,382,915,000,000.0</td>\n",
       "      <td>67,031,863,000,000.0</td>\n",
       "    </tr>\n",
       "    <tr>\n",
       "      <th>1</th>\n",
       "      <td>entity00126380_udf_CF_201710211099539_CashFlow...</td>\n",
       "      <td>영업에서 창출된 현금흐름</td>\n",
       "      <td>Cash generated from operations</td>\n",
       "      <td>현금흐름표 [abstract]</td>\n",
       "      <td>영업활동 현금흐름</td>\n",
       "      <td>영업에서 창출된 현금흐름</td>\n",
       "      <td>None</td>\n",
       "      <td>72,676,199,000,000.0</td>\n",
       "      <td>68,148,810,000,000.0</td>\n",
       "      <td>56,635,791,000,000.0</td>\n",
       "      <td>78,025,064,000,000.0</td>\n",
       "    </tr>\n",
       "    <tr>\n",
       "      <th>2</th>\n",
       "      <td>entity00126380_udf_CF_201710211092510_udf_CF_2...</td>\n",
       "      <td>당기순이익</td>\n",
       "      <td>Profit (loss) for the year</td>\n",
       "      <td>현금흐름표 [abstract]</td>\n",
       "      <td>영업활동 현금흐름</td>\n",
       "      <td>영업에서 창출된 현금흐름</td>\n",
       "      <td>당기순이익</td>\n",
       "      <td>39,907,450,000,000.0</td>\n",
       "      <td>26,407,832,000,000.0</td>\n",
       "      <td>21,738,865,000,000.0</td>\n",
       "      <td>44,344,857,000,000.0</td>\n",
       "    </tr>\n",
       "    <tr>\n",
       "      <th>3</th>\n",
       "      <td>entity00126380_udf_CF_2017102110929616_udf_CF_...</td>\n",
       "      <td>조정</td>\n",
       "      <td>Adjustments</td>\n",
       "      <td>현금흐름표 [abstract]</td>\n",
       "      <td>영업활동 현금흐름</td>\n",
       "      <td>영업에서 창출된 현금흐름</td>\n",
       "      <td>조정</td>\n",
       "      <td>49,055,633,000,000.0</td>\n",
       "      <td>41,618,554,000,000.0</td>\n",
       "      <td>37,442,682,000,000.0</td>\n",
       "      <td>43,604,573,000,000.0</td>\n",
       "    </tr>\n",
       "    <tr>\n",
       "      <th>4</th>\n",
       "      <td>entity00126380_udf_CF_2017102110934928_udf_CF_...</td>\n",
       "      <td>영업활동으로 인한 자산부채의 변동</td>\n",
       "      <td>Changes in assets and liabilities arising from...</td>\n",
       "      <td>현금흐름표 [abstract]</td>\n",
       "      <td>영업활동 현금흐름</td>\n",
       "      <td>영업에서 창출된 현금흐름</td>\n",
       "      <td>영업활동으로 인한 자산부채의 변동</td>\n",
       "      <td>-16,286,884,000,000.0</td>\n",
       "      <td>122,424,000,000.0</td>\n",
       "      <td>-2,545,756,000,000.0</td>\n",
       "      <td>-9,924,366,000,000.0</td>\n",
       "    </tr>\n",
       "  </tbody>\n",
       "</table>\n",
       "</div>"
      ],
      "text/plain": [
       "                                          concept_id            label_ko  \\\n",
       "0   ifrs-full_CashFlowsFromUsedInOperatingActivities           영업활동 현금흐름   \n",
       "1  entity00126380_udf_CF_201710211099539_CashFlow...       영업에서 창출된 현금흐름   \n",
       "2  entity00126380_udf_CF_201710211092510_udf_CF_2...               당기순이익   \n",
       "3  entity00126380_udf_CF_2017102110929616_udf_CF_...                  조정   \n",
       "4  entity00126380_udf_CF_2017102110934928_udf_CF_...  영업활동으로 인한 자산부채의 변동   \n",
       "\n",
       "                                            label_en            class0  \\\n",
       "0     Cash flows from (used in) operating activities  현금흐름표 [abstract]   \n",
       "1                     Cash generated from operations  현금흐름표 [abstract]   \n",
       "2                         Profit (loss) for the year  현금흐름표 [abstract]   \n",
       "3                                        Adjustments  현금흐름표 [abstract]   \n",
       "4  Changes in assets and liabilities arising from...  현금흐름표 [abstract]   \n",
       "\n",
       "      class1         class2              class3              20211231  \\\n",
       "0  영업활동 현금흐름           None                None  65,105,448,000,000.0   \n",
       "1  영업활동 현금흐름  영업에서 창출된 현금흐름                None  72,676,199,000,000.0   \n",
       "2  영업활동 현금흐름  영업에서 창출된 현금흐름               당기순이익  39,907,450,000,000.0   \n",
       "3  영업활동 현금흐름  영업에서 창출된 현금흐름                  조정  49,055,633,000,000.0   \n",
       "4  영업활동 현금흐름  영업에서 창출된 현금흐름  영업활동으로 인한 자산부채의 변동 -16,286,884,000,000.0   \n",
       "\n",
       "              20201231             20191231             20181231  \n",
       "0 65,287,009,000,000.0 45,382,915,000,000.0 67,031,863,000,000.0  \n",
       "1 68,148,810,000,000.0 56,635,791,000,000.0 78,025,064,000,000.0  \n",
       "2 26,407,832,000,000.0 21,738,865,000,000.0 44,344,857,000,000.0  \n",
       "3 41,618,554,000,000.0 37,442,682,000,000.0 43,604,573,000,000.0  \n",
       "4    122,424,000,000.0 -2,545,756,000,000.0 -9,924,366,000,000.0  "
      ]
     },
     "execution_count": 46,
     "metadata": {},
     "output_type": "execute_result"
    }
   ],
   "source": [
    "df_cf = fs['cf']\n",
    "df_cf = multiple2single(df_cf, 'cf')\n",
    "df_cf.head()"
   ]
  },
  {
   "cell_type": "code",
   "execution_count": null,
   "metadata": {},
   "outputs": [],
   "source": []
  }
 ],
 "metadata": {
  "interpreter": {
   "hash": "d2039eeef9e06520ccc5a45bb9aa62cf7d277bd738d879ec72f6cdae1fddb67a"
  },
  "kernelspec": {
   "display_name": "Python 3.8.0 64-bit ('venv_dart': pyenv)",
   "language": "python",
   "name": "python3"
  },
  "language_info": {
   "codemirror_mode": {
    "name": "ipython",
    "version": 3
   },
   "file_extension": ".py",
   "mimetype": "text/x-python",
   "name": "python",
   "nbconvert_exporter": "python",
   "pygments_lexer": "ipython3",
   "version": "3.6.9"
  },
  "orig_nbformat": 4
 },
 "nbformat": 4,
 "nbformat_minor": 2
}
